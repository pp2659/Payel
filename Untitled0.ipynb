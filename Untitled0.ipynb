{
  "nbformat": 4,
  "nbformat_minor": 0,
  "metadata": {
    "colab": {
      "name": "Untitled0.ipynb",
      "provenance": [],
      "collapsed_sections": [],
      "authorship_tag": "ABX9TyNfqETSdSM/14uvuVUmt+Zb",
      "include_colab_link": true
    },
    "kernelspec": {
      "name": "python3",
      "display_name": "Python 3"
    }
  },
  "cells": [
    {
      "cell_type": "markdown",
      "metadata": {
        "id": "view-in-github",
        "colab_type": "text"
      },
      "source": [
        "<a href=\"https://colab.research.google.com/github/pp2659/Payel/blob/master/Untitled0.ipynb\" target=\"_parent\"><img src=\"https://colab.research.google.com/assets/colab-badge.svg\" alt=\"Open In Colab\"/></a>"
      ]
    },
    {
      "cell_type": "code",
      "metadata": {
        "id": "4fS3HmDAiQJc",
        "colab_type": "code",
        "colab": {
          "base_uri": "https://localhost:8080/",
          "height": 34
        },
        "outputId": "d246c6f2-397c-4824-bd91-68365bc34a40"
      },
      "source": [
        "print(\"Hello world\")"
      ],
      "execution_count": 1,
      "outputs": [
        {
          "output_type": "stream",
          "text": [
            "Hello world\n"
          ],
          "name": "stdout"
        }
      ]
    },
    {
      "cell_type": "code",
      "metadata": {
        "id": "w-3RP24ojC4i",
        "colab_type": "code",
        "colab": {
          "base_uri": "https://localhost:8080/",
          "height": 34
        },
        "outputId": "3f1710d8-c050-4029-ceb6-eada4c81b08a"
      },
      "source": [
        "a=12\n",
        "pi=3.14\n",
        "name='payel'\n",
        "print(a,pi,name)"
      ],
      "execution_count": 2,
      "outputs": [
        {
          "output_type": "stream",
          "text": [
            "12 3.14 payel\n"
          ],
          "name": "stdout"
        }
      ]
    },
    {
      "cell_type": "code",
      "metadata": {
        "id": "ThQG2nnukrT-",
        "colab_type": "code",
        "colab": {
          "base_uri": "https://localhost:8080/",
          "height": 50
        },
        "outputId": "e3135b8f-c719-4907-e66d-78baf153bd8e"
      },
      "source": [
        "age=int(input(\"Enter your age\"))\n",
        "if(age>18):\n",
        "  print(\"you are major\")\n",
        "else:\n",
        "  printf(\"get out kiddo\")"
      ],
      "execution_count": 5,
      "outputs": [
        {
          "output_type": "stream",
          "text": [
            "Enter your age19\n",
            "you are major\n"
          ],
          "name": "stdout"
        }
      ]
    },
    {
      "cell_type": "code",
      "metadata": {
        "id": "RRD7wN-anoLi",
        "colab_type": "code",
        "colab": {
          "base_uri": "https://localhost:8080/",
          "height": 50
        },
        "outputId": "756870ef-33a1-4a41-9268-208b1b3d47ce"
      },
      "source": [
        "def square(x,y):\n",
        "  x=x**2\n",
        "  y=y**0.5\n",
        "  print(x)\n",
        "  print(y)\n",
        "square(5,25)"
      ],
      "execution_count": 14,
      "outputs": [
        {
          "output_type": "stream",
          "text": [
            "25\n",
            "5.0\n"
          ],
          "name": "stdout"
        }
      ]
    },
    {
      "cell_type": "code",
      "metadata": {
        "id": "lvl6YboHpBIZ",
        "colab_type": "code",
        "colab": {
          "base_uri": "https://localhost:8080/",
          "height": 101
        },
        "outputId": "20200fd8-0158-4333-fc2d-348e3955b1e5"
      },
      "source": [
        "for a in range(0,5,1):\n",
        " print(a)"
      ],
      "execution_count": 17,
      "outputs": [
        {
          "output_type": "stream",
          "text": [
            "0\n",
            "1\n",
            "2\n",
            "3\n",
            "4\n"
          ],
          "name": "stdout"
        }
      ]
    },
    {
      "cell_type": "code",
      "metadata": {
        "id": "JUMJjn3OqJtd",
        "colab_type": "code",
        "colab": {
          "base_uri": "https://localhost:8080/",
          "height": 315
        },
        "outputId": "90722354-48fa-43ce-da6c-9bc3638ba755"
      },
      "source": [
        "import matplotlib.pyplot as plt\n",
        "from sklearn.linear_model import LinearRegression\n",
        "\n",
        "x=[[178],[167],[165],[168],[170],[160],[164],[157],[154],[157],[172],[170],[180],[155],[160]]\n",
        "y=[[11],[9],[8],[6],[9],[6],[6],[7],[6],[5],[10],[9],[9],[8],[7]]\n",
        "\n",
        "clf = LinearRegression()\n",
        "clf.fit(x,y)\n",
        "\n",
        "height =int(input(\"enter ur height:\"))\n",
        "\n",
        "accuracy = clf.score(x,y)\n",
        "prediction = clf.predict([[height]])\n",
        "\n",
        "print(\"accuracy=\",accuracy)\n",
        "print(\"your shoe size is=\",prediction)\n",
        "plt.scatter(x,y)\n",
        "plt.plot(x,clf.predict(x),color='red')\n",
        "plt.show()"
      ],
      "execution_count": 39,
      "outputs": [
        {
          "output_type": "stream",
          "text": [
            "enter ur height:192\n",
            "accuracy= 0.54466565874809\n",
            "your shoe size is= [[12.05027234]]\n"
          ],
          "name": "stdout"
        },
        {
          "output_type": "display_data",
          "data": {
            "image/png": "[encoded data removed]",
            "text/plain": [
              "<Figure size 432x288 with 1 Axes>"
            ]
          },
          "metadata": {
            "tags": []
          }
        }
      ]
    },
    {
      "cell_type": "code",
      "metadata": {
        "id": "xceyrd5nN6hV",
        "colab_type": "code",
        "colab": {
          "base_uri": "https://localhost:8080/",
          "height": 1000
        },
        "outputId": "8ca7520c-edfb-4f78-9706-a4d03545088b"
      },
      "source": [
        "import pandas as pd\n",
        "import numpy as np\n",
        "from sklearn.neighbors import KNeighborsClassifier\n",
        "\n",
        "df=pd.read_csv('wo_men1.csv')\n",
        "print(df.head())\n",
        "df.dropna(inplace=True)\n",
        "\n",
        "df=np.array(df)\n",
        "print(df)\n",
        "\n",
        "x=df[:,2:]\n",
        "y=df[:,1]\n",
        "print(x)\n",
        "print(y)\n",
        "\n",
        "clf = KNeighborsClassifier()\n",
        "clf.fit(x,y)\n",
        "\n",
        "height=int(input(\"enter your height:\"))\n",
        "shoe_size=int(input(\"enter your shoe size:\"))\n",
        "\n",
        "accuracy=clf.score(x,y)\n",
        "print(accuracy)\n",
        "\n",
        "prediction=clf.predict([[height,shoe_size]])\n",
        "print(\"your gender is=\",prediction)"
      ],
      "execution_count": 52,
      "outputs": [
        {
          "output_type": "stream",
          "text": [
            "                  time    sex  height  shoe_size\n",
            "0  04.10.2016 17:58:51  woman   160.0       40.0\n",
            "1  04.10.2016 17:58:59  woman   171.0       39.0\n",
            "2  04.10.2016 18:00:15  woman   174.0       39.0\n",
            "3  04.10.2016 18:01:17  woman   176.0       40.0\n",
            "4  04.10.2016 18:01:22    man   195.0       46.0\n",
            "[['04.10.2016 17:58:51' 'woman' 160.0 40.0]\n",
            " ['04.10.2016 17:58:59' 'woman' 171.0 39.0]\n",
            " ['04.10.2016 18:00:15' 'woman' 174.0 39.0]\n",
            " ['04.10.2016 18:01:17' 'woman' 176.0 40.0]\n",
            " ['04.10.2016 18:01:22' 'man' 195.0 46.0]\n",
            " ['04.10.2016 18:01:53' 'woman' 157.0 37.0]\n",
            " ['04.10.2016 18:01:57' 'woman' 160.0 38.0]\n",
            " ['04.10.2016 18:02:00' 'woman' 178.0 39.0]\n",
            " ['04.10.2016 18:02:11' 'woman' 168.0 38.0]\n",
            " ['04.10.2016 18:02:16' 'man' 171.0 41.0]\n",
            " ['04.10.2016 18:02:22' 'woman' 165.0 39.0]\n",
            " ['04.10.2016 18:02:25' 'man' 175.0 44.0]\n",
            " ['04.10.2016 18:02:27' 'woman' 163.0 38.0]\n",
            " ['04.10.2016 18:02:43' 'woman' 158.0 37.0]\n",
            " ['04.10.2016 18:03:01' 'woman' 159.0 38.0]\n",
            " ['04.10.2016 18:03:11' 'man' 183.0 44.0]\n",
            " ['04.10.2016 18:03:14' 'woman' 155.0 37.0]\n",
            " ['04.10.2016 18:03:19' 'woman' 172.0 39.0]\n",
            " ['04.10.2016 18:03:44' 'woman' 164.0 39.0]\n",
            " ['04.10.2016 18:03:49' 'woman' 158.0 35.0]\n",
            " ['04.10.2016 18:04:45' 'woman' 174.0 37.0]\n",
            " ['04.10.2016 18:07:51' 'woman' 164.0 37.0]\n",
            " ['04.10.2016 18:07:53' 'woman' 168.0 38.0]\n",
            " ['04.10.2016 18:10:17' 'woman' 168.0 38.0]\n",
            " ['04.10.2016 18:13:00' 'woman' 163.0 37.0]\n",
            " ['04.10.2016 18:51:58' 'woman' 160.0 37.0]\n",
            " ['04.10.2016 19:04:42' 'man' 183.0 46.0]\n",
            " ['04.10.2016 19:16:09' 'woman' 161.0 38.0]\n",
            " ['04.10.2016 19:39:43' 'woman' 162.0 36.0]\n",
            " ['04.10.2016 19:59:42' 'woman' 165.0 37.0]\n",
            " ['04.10.2016 20:56:23' 'woman' 164.0 36.0]\n",
            " ['11.10.2016 12:30:32' 'woman' 161.0 37.0]\n",
            " ['11.10.2016 12:31:09' 'woman' 163.0 39.0]\n",
            " ['11.10.2016 12:31:18' 'woman' 169.0 40.0]\n",
            " ['11.10.2016 12:31:25' 'woman' 171.0 39.0]\n",
            " ['11.10.2016 12:31:50' 'woman' 163.0 38.0]\n",
            " ['11.10.2016 12:31:56' 'woman' 159.0 36.0]\n",
            " ['11.10.2016 12:31:59' 'woman' 180.0 42.0]\n",
            " ['11.10.2016 12:31:59' 'woman' 168.0 38.0]\n",
            " ['11.10.2016 12:32:04' 'woman' 170.0 38.0]\n",
            " ['11.10.2016 12:32:05' 'woman' 168.0 38.0]\n",
            " ['11.10.2016 12:32:06' 'man' 180.0 42.0]\n",
            " ['11.10.2016 12:32:10' 'man' 183.0 44.0]\n",
            " ['11.10.2016 12:32:10' 'woman' 170.0 40.0]\n",
            " ['11.10.2016 12:32:09' 'woman' 172.0 39.0]\n",
            " ['11.10.2016 12:32:12' 'woman' 163.0 38.0]\n",
            " ['11.10.2016 12:32:17' 'woman' 168.0 38.0]\n",
            " ['11.10.2016 12:32:24' 'woman' 169.0 38.0]\n",
            " ['11.10.2016 12:32:27' 'man' 206.0 50.0]\n",
            " ['11.10.2016 12:32:32' 'woman' 165.0 38.0]\n",
            " ['11.10.2016 12:32:32' 'woman' 171.0 40.0]\n",
            " ['11.10.2016 12:32:33' 'woman' 165.0 37.0]\n",
            " ['11.10.2016 12:32:33' 'woman' 168.0 38.0]\n",
            " ['11.10.2016 12:32:42' 'man' 180.0 44.0]\n",
            " ['11.10.2016 12:32:42' 'woman' 160.0 40.0]\n",
            " ['11.10.2016 12:32:49' 'man' 183.0 44.0]\n",
            " ['11.10.2016 12:32:50' 'woman' 160.0 36.5]\n",
            " ['11.10.2016 12:33:01' 'woman' 171.0 40.0]\n",
            " ['11.10.2016 12:33:13' 'woman' 167.0 39.0]\n",
            " ['11.10.2016 12:33:15' 'woman' 172.0 37.0]\n",
            " ['11.10.2016 12:33:30' 'woman' 173.0 38.0]\n",
            " ['11.10.2016 12:33:34' 'man' 187.0 44.0]\n",
            " ['11.10.2016 12:33:49' 'woman' 176.0 40.0]\n",
            " ['11.10.2016 12:33:50' 'man' 180.0 42.0]\n",
            " ['11.10.2016 12:34:18' 'woman' 168.0 36.0]\n",
            " ['11.10.2016 12:34:38' 'woman' 175.0 39.0]\n",
            " ['11.10.2016 12:34:55' 'man' 185.0 42.0]\n",
            " ['11.10.2016 12:34:58' 'man' 205.0 48.0]\n",
            " ['11.10.2016 12:35:03' 'woman' 165.0 36.0]\n",
            " ['11.10.2016 12:35:25' 'man' 175.0 42.0]\n",
            " ['11.10.2016 12:35:44' 'man' 175.0 42.0]\n",
            " ['11.10.2016 12:36:06' 'man' 172.0 41.0]\n",
            " ['11.10.2016 12:36:33' 'woman' 156.0 36.0]\n",
            " ['11.10.2016 12:36:42' 'woman' 163.0 37.0]\n",
            " ['11.10.2016 12:37:05' 'woman' 163.0 38.0]\n",
            " ['11.10.2016 12:37:44' 'woman' 169.0 39.0]\n",
            " ['11.10.2016 12:38:01' 'woman' 178.0 39.0]\n",
            " ['11.10.2016 12:41:08' 'woman' 170.0 38.0]\n",
            " ['11.10.2016 12:41:32' 'woman' 168.0 38.0]\n",
            " ['11.10.2016 12:47:47' 'woman' 170.0 39.0]\n",
            " ['11.10.2016 13:04:54' 'woman' 173.0 40.0]\n",
            " ['15.10.2016 15:10:34' 'woman' 171.0 40.0]\n",
            " ['16.10.2016 14:31:49' 'woman' 163.0 38.0]\n",
            " ['16.10.2016 15:46:30' 'woman' 166.0 38.0]\n",
            " ['16.10.2016 17:18:17' 'woman' 159.0 38.0]\n",
            " ['16.10.2016 20:55:46' 'woman' 178.0 41.0]\n",
            " ['16.10.2016 22:25:07' 'man' 178.0 44.0]\n",
            " ['17.10.2016 08:31:01' 'woman' 169.0 40.0]\n",
            " ['17.10.2016 08:36:38' 'woman' 158.0 37.0]\n",
            " ['17.10.2016 12:37:09' 'woman' 170.0 39.0]\n",
            " ['17.10.2016 13:12:48' 'woman' 183.0 39.0]\n",
            " ['19.10.2016 17:07:53' 'woman' 173.0 40.0]\n",
            " ['29.10.2016 20:28:33' 'woman' 160.0 37.0]\n",
            " ['30.10.2016 11:57:57' 'woman' 168.0 39.0]]\n",
            "[[160.0 40.0]\n",
            " [171.0 39.0]\n",
            " [174.0 39.0]\n",
            " [176.0 40.0]\n",
            " [195.0 46.0]\n",
            " [157.0 37.0]\n",
            " [160.0 38.0]\n",
            " [178.0 39.0]\n",
            " [168.0 38.0]\n",
            " [171.0 41.0]\n",
            " [165.0 39.0]\n",
            " [175.0 44.0]\n",
            " [163.0 38.0]\n",
            " [158.0 37.0]\n",
            " [159.0 38.0]\n",
            " [183.0 44.0]\n",
            " [155.0 37.0]\n",
            " [172.0 39.0]\n",
            " [164.0 39.0]\n",
            " [158.0 35.0]\n",
            " [174.0 37.0]\n",
            " [164.0 37.0]\n",
            " [168.0 38.0]\n",
            " [168.0 38.0]\n",
            " [163.0 37.0]\n",
            " [160.0 37.0]\n",
            " [183.0 46.0]\n",
            " [161.0 38.0]\n",
            " [162.0 36.0]\n",
            " [165.0 37.0]\n",
            " [164.0 36.0]\n",
            " [161.0 37.0]\n",
            " [163.0 39.0]\n",
            " [169.0 40.0]\n",
            " [171.0 39.0]\n",
            " [163.0 38.0]\n",
            " [159.0 36.0]\n",
            " [180.0 42.0]\n",
            " [168.0 38.0]\n",
            " [170.0 38.0]\n",
            " [168.0 38.0]\n",
            " [180.0 42.0]\n",
            " [183.0 44.0]\n",
            " [170.0 40.0]\n",
            " [172.0 39.0]\n",
            " [163.0 38.0]\n",
            " [168.0 38.0]\n",
            " [169.0 38.0]\n",
            " [206.0 50.0]\n",
            " [165.0 38.0]\n",
            " [171.0 40.0]\n",
            " [165.0 37.0]\n",
            " [168.0 38.0]\n",
            " [180.0 44.0]\n",
            " [160.0 40.0]\n",
            " [183.0 44.0]\n",
            " [160.0 36.5]\n",
            " [171.0 40.0]\n",
            " [167.0 39.0]\n",
            " [172.0 37.0]\n",
            " [173.0 38.0]\n",
            " [187.0 44.0]\n",
            " [176.0 40.0]\n",
            " [180.0 42.0]\n",
            " [168.0 36.0]\n",
            " [175.0 39.0]\n",
            " [185.0 42.0]\n",
            " [205.0 48.0]\n",
            " [165.0 36.0]\n",
            " [175.0 42.0]\n",
            " [175.0 42.0]\n",
            " [172.0 41.0]\n",
            " [156.0 36.0]\n",
            " [163.0 37.0]\n",
            " [163.0 38.0]\n",
            " [169.0 39.0]\n",
            " [178.0 39.0]\n",
            " [170.0 38.0]\n",
            " [168.0 38.0]\n",
            " [170.0 39.0]\n",
            " [173.0 40.0]\n",
            " [171.0 40.0]\n",
            " [163.0 38.0]\n",
            " [166.0 38.0]\n",
            " [159.0 38.0]\n",
            " [178.0 41.0]\n",
            " [178.0 44.0]\n",
            " [169.0 40.0]\n",
            " [158.0 37.0]\n",
            " [170.0 39.0]\n",
            " [183.0 39.0]\n",
            " [173.0 40.0]\n",
            " [160.0 37.0]\n",
            " [168.0 39.0]]\n",
            "['woman' 'woman' 'woman' 'woman' 'man' 'woman' 'woman' 'woman' 'woman'\n",
            " 'man' 'woman' 'man' 'woman' 'woman' 'woman' 'man' 'woman' 'woman' 'woman'\n",
            " 'woman' 'woman' 'woman' 'woman' 'woman' 'woman' 'woman' 'man' 'woman'\n",
            " 'woman' 'woman' 'woman' 'woman' 'woman' 'woman' 'woman' 'woman' 'woman'\n",
            " 'woman' 'woman' 'woman' 'woman' 'man' 'man' 'woman' 'woman' 'woman'\n",
            " 'woman' 'woman' 'man' 'woman' 'woman' 'woman' 'woman' 'man' 'woman' 'man'\n",
            " 'woman' 'woman' 'woman' 'woman' 'woman' 'man' 'woman' 'man' 'woman'\n",
            " 'woman' 'man' 'man' 'woman' 'man' 'man' 'man' 'woman' 'woman' 'woman'\n",
            " 'woman' 'woman' 'woman' 'woman' 'woman' 'woman' 'woman' 'woman' 'woman'\n",
            " 'woman' 'woman' 'man' 'woman' 'woman' 'woman' 'woman' 'woman' 'woman'\n",
            " 'woman']\n",
            "enter your height:170\n",
            "enter your shoe size:41\n",
            "0.9574468085106383\n",
            "your gender is= ['woman']\n"
          ],
          "name": "stdout"
        }
      ]
    }
  ]
}